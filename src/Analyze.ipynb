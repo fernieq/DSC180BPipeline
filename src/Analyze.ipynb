{
 "cells": [
  {
   "cell_type": "code",
   "execution_count": 1,
   "metadata": {},
   "outputs": [],
   "source": [
    "\n",
    "\n",
    "import pandas as pd\n",
    "import gzip\n",
    "from pandas import DataFrame\n",
    "from scipy.stats import uniform\n",
    "from scipy.stats import randint\n",
    "import numpy as np\n",
    "import matplotlib.pyplot as plt\n",
    "\n",
    "\n",
    "\n",
    "\n",
    "def read_gz(gz):\n",
    "    with gzip.open(str(gz)) as f:\n",
    "        features_train = pd.read_csv(f, sep='\\t')\n",
    "    return features_train\n",
    "\n",
    "\n",
    "\n",
    "\n",
    "def clean_df(source):\n",
    "    source = source.drop(['hm_beta','hm_odds_ratio','hm_ci_lower','hm_ci_upper','standard_error','ci_lower','odds_ratio','beta','ci_upper'],axis=1)\n",
    "    source = source.dropna()\n",
    "    return source\n",
    "\n",
    "def combine(source_one,source_two,source_three,source_four,source_five,metal):\n",
    "    source_one = source_one[source_one['p_value'] <= 0.05]\n",
    "    source_two = source_two[source_two['p_value'] <= 0.05]\n",
    "    source_three = source_three[source_three['p_value'] <= 0.05]\n",
    "    source_four = source_four[source_four['p_value'] <= 0.05]\n",
    "    source_five = source_five[source_five['p_value'] <= 0.05]\n",
    "    source_one = source_one[source_one['p_value'] <= 0.05]\n",
    "    source_two = source_two[source_two['p_value'] <= 0.05]\n",
    "    source_three = source_three[source_three['p_value'] <= 0.05]\n",
    "    source_four = source_four[source_four['p_value'] <= 0.05]\n",
    "    source_five = source_five[source_five['p_value'] <= 0.05]\n",
    "    frames = [source_one,source_two,source_three,source_four,source_five]\n",
    "    all_sources = pd.concat(frames)\n",
    "    all_sources.rename(columns={'variant_id':'MarkerName'}, inplace=True)\n",
    "    metal = metal[metal['P-value'] <= 0.05]\n",
    "    metal = pd.merge(metal, all_sources, on='MarkerName', how='left')\n",
    "    return metal \n",
    "\n",
    "    \n",
    "def create_histogram(source,nbins):\n",
    "    ax = source['p_value'].hist(bins=nbins)\n",
    "    ax.figure.savefig('histogram.png')\n",
    "    return ax\n",
    "\n",
    "\n",
    "\n",
    "def manhattan_plot(source, height):\n",
    "    plot_one = source[['p_value','chromosome']]\n",
    "    plot_one['minuslog10pvalue'] = -np.log10(plot_one.p_value)\n",
    "    plot_one.chromosome = plot_one.chromosome.astype('category')\n",
    "    plot_one = plot_one.sort_values('chromosome')\n",
    "    plot_one['ind'] = range(len(plot_one))\n",
    "    plot_one_grouped = plot_one.groupby(('chromosome'))\n",
    "    fig = plt.figure(figsize=(20,5))\n",
    "    ax = fig.add_subplot(111)\n",
    "    colors = ['red','green','blue', 'yellow']\n",
    "    x_labels = []\n",
    "    x_labels_pos = []\n",
    "    for num, (name, group) in enumerate(plot_one_grouped):\n",
    "        group.plot(kind='scatter', x='ind', y='minuslog10pvalue',color=colors[num % len(colors)], ax=ax)\n",
    "        x_labels.append(name)\n",
    "        x_labels_pos.append((group['ind'].iloc[-1] - (group['ind'].iloc[-1] - group['ind'].iloc[0])/2))\n",
    "    ax.set_xticks(x_labels_pos)\n",
    "    ax.set_xticklabels(x_labels)\n",
    "    for tick in ax.get_xticklabels():\n",
    "        tick.set_rotation(90)\n",
    "    ax.set_xlim([0, len(plot_one)])\n",
    "    ax.set_ylim([0, height])\n",
    "    ax.set_xlabel('Chromosome')\n",
    "    ax.axhline(y=0.002,xmin=0,xmax=3,c=\"blue\",linewidth=0.5,zorder=0)\n",
    "    plt.savefig('manhattan.png')\n",
    "    return \n",
    "\n",
    "\n",
    "\n",
    "def qq_plot(metal):\n",
    "    metal.sort_values(by=['P-value'],inplace=True)\n",
    "    metal['minuslog10pvalue'] = -np.log10(metal['P-value'])\n",
    "    measurements = np.random.uniform()   \n",
    "    fig = stats.probplot(df['minuslog10pvalue'], dist=\"norm\", plot=pylab)\n",
    "    pylab.savefig('qq.png')\n",
    "    pylab.show()\n",
    "    return \n",
    "\n"
   ]
  },
  {
   "cell_type": "code",
   "execution_count": 2,
   "metadata": {},
   "outputs": [
    {
     "name": "stdout",
     "output_type": "stream",
     "text": [
      "[NbConvertApp] Converting notebook Analyze.ipynb to script\n",
      "[NbConvertApp] Writing 3286 bytes to Analyze.py\n"
     ]
    }
   ],
   "source": [
    "!jupyter nbconvert --to script Analyze.ipynb"
   ]
  },
  {
   "cell_type": "code",
   "execution_count": null,
   "metadata": {},
   "outputs": [],
   "source": []
  }
 ],
 "metadata": {
  "kernelspec": {
   "display_name": "Python 3",
   "language": "python",
   "name": "python3"
  },
  "language_info": {
   "codemirror_mode": {
    "name": "ipython",
    "version": 3
   },
   "file_extension": ".py",
   "mimetype": "text/x-python",
   "name": "python",
   "nbconvert_exporter": "python",
   "pygments_lexer": "ipython3",
   "version": "3.7.3"
  }
 },
 "nbformat": 4,
 "nbformat_minor": 2
}
